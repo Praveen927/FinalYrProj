{
 "cells": [
  {
   "cell_type": "code",
   "execution_count": 4,
   "id": "4f67e330",
   "metadata": {},
   "outputs": [],
   "source": [
    "import cv2\n",
    "import os\n",
    "import numpy as np\n",
    "from matplotlib import pyplot as plt\n",
    "from skimage.io import imread, imshow,imsave\n",
    "from skimage.color import rgb2hsv\n",
    "from PIL import Image\n",
    "from skimage.util import img_as_ubyte"
   ]
  },
  {
   "cell_type": "code",
   "execution_count": 9,
   "id": "87901b8c",
   "metadata": {},
   "outputs": [],
   "source": [
    "def func1(path,imgname,clsid):\n",
    "    img2 = cv2.imread(path, cv2.IMREAD_COLOR)\n",
    "    img = cv2.imread(path, cv2.IMREAD_GRAYSCALE)\n",
    "    _,threshold = cv2.threshold(img, 10, 255, \n",
    "                                cv2.THRESH_BINARY)\n",
    "    contours,_=cv2.findContours(threshold, cv2.RETR_TREE,\n",
    "                                cv2.CHAIN_APPROX_SIMPLE)\n",
    "\n",
    "    ans = []\n",
    "    for cnt in contours :\n",
    "        area = cv2.contourArea(cnt)\n",
    "        if area > 5000: \n",
    "            approx = cv2.approxPolyDP(cnt, 0.0005 * cv2.arcLength(cnt, True), True)\n",
    "            x,y,w,h = cv2.boundingRect(cnt)\n",
    "            a1 = ((x+w)/2)/512\n",
    "            b1 = ((y+h)/2)/512\n",
    "            c1 = w/512\n",
    "            d1 = h/512\n",
    "            ans.append(\"{} {} {} {} {}\\n\".format(clsid,a1,b1,c1,d1))\n",
    "    file = open(\"D:\\\\Final Yr Project\\\\YOLO\\\\labels\\\\val\\\\{}.txt\".format(imgname),\"w\")\n",
    "    file.writelines(ans)\n",
    "    file.close()"
   ]
  },
  {
   "cell_type": "code",
   "execution_count": 10,
   "id": "94b9e9a7",
   "metadata": {},
   "outputs": [],
   "source": [
    "def func(path,imgname,clsid):\n",
    "    crop=cv2.imread(path)\n",
    "    crop_hsv = rgb2hsv(crop)\n",
    "    lower_mask = crop_hsv[:,:,0] > 0.09\n",
    "    #refer to hue channel (in the colorbar)\n",
    "    upper_mask = crop_hsv[:,:,0] < 0.45\n",
    "    #refer to transparency channel (in the colorbar)\n",
    "    saturation_mask = crop_hsv[:,:,1] > 0.4\n",
    "\n",
    "    mask = upper_mask*lower_mask*saturation_mask\n",
    "    red = crop[:,:,0]*mask\n",
    "    green = crop[:,:,1]*mask\n",
    "    blue = crop[:,:,2]*mask\n",
    "    crop_masked = np.dstack((red,green,blue))\n",
    "    imsave(\"D:\\\\Final Yr Project\\\\data\\\\test.jpg\",crop_masked)\n",
    "    func1(\"D:\\\\Final Yr Project\\\\data\\\\test.jpg\",imgname,clsid)"
   ]
  },
  {
   "cell_type": "code",
   "execution_count": 11,
   "id": "e2fc9f81",
   "metadata": {},
   "outputs": [],
   "source": [
    "folder_dir = \"D:\\\\Final Yr Project\\\\YOLO\\\\images\\\\val\"\n",
    "clsid = 0\n",
    "for fold in os.listdir(folder_dir):\n",
    "    for images in os.listdir(folder_dir+\"\\\\\"+fold):\n",
    "        if (images.endswith(\".jpg\")):\n",
    "            path = folder_dir+\"\\\\\"+fold+\"\\\\\"+images\n",
    "            func(path,images[:-4],clsid)\n",
    "    clsid+=1"
   ]
  }
 ],
 "metadata": {
  "kernelspec": {
   "display_name": "Python 3",
   "language": "python",
   "name": "python3"
  },
  "language_info": {
   "codemirror_mode": {
    "name": "ipython",
    "version": 3
   },
   "file_extension": ".py",
   "mimetype": "text/x-python",
   "name": "python",
   "nbconvert_exporter": "python",
   "pygments_lexer": "ipython3",
   "version": "3.6.13"
  }
 },
 "nbformat": 4,
 "nbformat_minor": 5
}
