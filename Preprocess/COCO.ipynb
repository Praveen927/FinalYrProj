{
 "cells": [
  {
   "cell_type": "code",
   "execution_count": 1,
   "id": "3ddc8b61",
   "metadata": {},
   "outputs": [],
   "source": [
    "import cv2\n",
    "import os\n",
    "import numpy as np\n",
    "from matplotlib import pyplot as plt\n",
    "from skimage.io import imread, imshow,imsave\n",
    "from skimage.color import rgb2hsv\n",
    "from PIL import Image\n",
    "from skimage.util import img_as_ubyte\n",
    "import json\n",
    "from skimage import measure \n",
    "from shapely.geometry import Polygon, MultiPolygon\n",
    "import time"
   ]
  },
  {
   "cell_type": "code",
   "execution_count": 2,
   "id": "cc1e4879",
   "metadata": {},
   "outputs": [],
   "source": [
    "obj = {\n",
    "    \"inf0\":{\n",
    "        \"description\": \"Weed Detection\"\n",
    "    },\n",
    "    \"images\": [],\n",
    "    \"annotations\": [],\n",
    "    \"categories\": [\n",
    "        {\n",
    "            \"id\": 1,\n",
    "            \"name\": \"Brinjal\"\n",
    "        },\n",
    "        {\n",
    "            \"id\": 2,\n",
    "            \"name\": \"Broad_Beans\"\n",
    "        }\n",
    "    ]\n",
    "}"
   ]
  },
  {
   "cell_type": "code",
   "execution_count": 3,
   "id": "6e0ea7a1",
   "metadata": {},
   "outputs": [],
   "source": [
    "folder_dir = \"D:\\\\Final Yr Project\\\\shadow_cleared_data\"\n",
    "imgid = 1\n",
    "imgs = []\n",
    "for fold in os.listdir(folder_dir):\n",
    "    for images in os.listdir(folder_dir+\"\\\\\"+fold):\n",
    "        if (images.endswith(\".jpg\")):\n",
    "            temp = {\n",
    "                \"id\": imgid,\n",
    "                \"width\": 512,\n",
    "                \"height\": 512,\n",
    "                \"file_name\": images\n",
    "            }\n",
    "            imgs.append(temp)\n",
    "            imgid+=1\n",
    "obj['images'] = imgs"
   ]
  },
  {
   "cell_type": "code",
   "execution_count": 8,
   "id": "26f89747",
   "metadata": {},
   "outputs": [],
   "source": [
    "def func1(path,images):\n",
    "    global aid,cid,iid,annotations\n",
    "    #img2 = cv2.imread(path, cv2.IMREAD_COLOR)\n",
    "    img = cv2.imread(path, cv2.IMREAD_GRAYSCALE)\n",
    "    _,threshold = cv2.threshold(img, 15, 75, \n",
    "                            cv2.THRESH_BINARY)\n",
    "\n",
    "    # Detecting shapes in image by selecting region \n",
    "    # with same colors or intensity.\n",
    "    contours,_=cv2.findContours(threshold, cv2.RETR_TREE,\n",
    "                            cv2.CHAIN_APPROX_SIMPLE)\n",
    "    for cnt in contours :\n",
    "        area = cv2.contourArea(cnt)\n",
    "        if area > 10000:\n",
    "            approx = cv2.approxPolyDP(cnt, 0.0005 * cv2.arcLength(cnt, True), True)\n",
    "            x,y,w,h = cv2.boundingRect(cnt)\n",
    "            temp1 = {\n",
    "                \"id\": aid,\n",
    "                \"iscrowd\": 0,\n",
    "                \"image_id\": iid,\n",
    "                \"category_id\": cid,\n",
    "                \"segmentation\": [],\n",
    "                \"bbox\": [],\n",
    "                \"area\": 0\n",
    "            }\n",
    "            seg = []\n",
    "            for i in range(len(approx)):\n",
    "                for x1,y1 in approx[i]:\n",
    "                    seg.append(float(x1))\n",
    "                    seg.append(float(y1))\n",
    "                    \n",
    "            temp1[\"segmentation\"] = [seg]\n",
    "            temp1[\"bbox\"] = [x,y,w,h]\n",
    "            temp1[\"area\"] = area\n",
    "            aid+=1\n",
    "            annotations.append(temp1)\n",
    "    iid+=1\n",
    "    aid+=1\n",
    "            "
   ]
  },
  {
   "cell_type": "code",
   "execution_count": 9,
   "id": "5aadaca6",
   "metadata": {},
   "outputs": [],
   "source": [
    "def func(path,images):\n",
    "    crop=cv2.imread(path)\n",
    "    crop_hsv = rgb2hsv(crop)\n",
    "    lower_mask = crop_hsv[:,:,0] > 0.1\n",
    "    #refer to hue channel (in the colorbar)\n",
    "    upper_mask = crop_hsv[:,:,0] < 0.45\n",
    "    #refer to transparency channel (in the colorbar)\n",
    "    saturation_mask = crop_hsv[:,:,1] > 0.3\n",
    "\n",
    "    mask = upper_mask*lower_mask*saturation_mask\n",
    "    red = crop[:,:,0]*mask\n",
    "    green = crop[:,:,1]*mask\n",
    "    blue = crop[:,:,2]*mask\n",
    "    crop_masked = np.dstack((red,green,blue))\n",
    "    imsave(\"D:\\\\Final Yr Project\\\\data\\\\test.jpg\",crop_masked)\n",
    "    func1(\"D:\\\\Final Yr Project\\\\data\\\\test.jpg\",images)"
   ]
  },
  {
   "cell_type": "code",
   "execution_count": 10,
   "id": "a92c2fdd",
   "metadata": {},
   "outputs": [
    {
     "name": "stdout",
     "output_type": "stream",
     "text": [
      "brinjal1545.jpg\n",
      "brinjal1653.jpg\n",
      "brinjal1797.jpg\n",
      "brinjal2401.jpg\n",
      "brinjal2413.jpg\n",
      "brinjal2513.jpg\n",
      "brinjal2909.jpg\n",
      "brinjal3305.jpg\n",
      "brinjal3961.jpg\n",
      "\n",
      "\n"
     ]
    }
   ],
   "source": [
    "folder_dir = \"D:\\\\Final Yr Project\\\\shadow_cleared_data\"\n",
    "annotations = []\n",
    "iid = 1\n",
    "cid = 1\n",
    "aid = 0\n",
    "ct = 0\n",
    "for fold in os.listdir(folder_dir):\n",
    "    for images in os.listdir(folder_dir+\"\\\\\"+fold):\n",
    "        if (images.endswith(\".jpg\")):\n",
    "            path = \"D:\\\\Final Yr Project\\\\shadow_cleared_data\\\\{}\\\\{}\".format(fold,images)\n",
    "            func(path,images)\n",
    "            #print(\"No of Images : \",ct,end='\\r')\n",
    "            ct+=1\n",
    "        else:\n",
    "            print()\n",
    "    print()\n",
    "    cid+=1\n",
    "obj[\"annotations\"] = annotations"
   ]
  },
  {
   "cell_type": "code",
   "execution_count": 43,
   "id": "9775a819",
   "metadata": {},
   "outputs": [
    {
     "data": {
      "text/plain": [
       "{'id': 124, 'width': 512, 'height': 512, 'file_name': 'brinjal1279.jpg'}"
      ]
     },
     "execution_count": 43,
     "metadata": {},
     "output_type": "execute_result"
    }
   ],
   "source": [
    "obj['images'][123]"
   ]
  },
  {
   "cell_type": "code",
   "execution_count": 14,
   "id": "550fca80",
   "metadata": {},
   "outputs": [
    {
     "name": "stdout",
     "output_type": "stream",
     "text": [
      "247\n",
      "296\n",
      "365\n",
      "600\n",
      "605\n",
      "645\n",
      "786\n",
      "878\n",
      "1031\n",
      "1066\n",
      "1191\n",
      "1312\n",
      "1346\n",
      "2090\n",
      "2229\n",
      "2264\n",
      "2266\n",
      "2336\n",
      "2450\n",
      "2583\n",
      "3232\n",
      "3480\n",
      "3569\n",
      "3572\n",
      "3743\n",
      "3867\n",
      "3932\n",
      "4379\n",
      "4619\n"
     ]
    }
   ],
   "source": [
    "t = []\n",
    "for x in annotations:\n",
    "    t.append(x['image_id'])\n",
    "tt = list(set(t))\n",
    "\n",
    "for i in range(1,4739):\n",
    "    if(i not in tt):\n",
    "        print(i)"
   ]
  },
  {
   "cell_type": "code",
   "execution_count": 17,
   "id": "a21d9adf",
   "metadata": {},
   "outputs": [],
   "source": [
    "json_object = json.dumps(obj, separators=(',', ':')) \n",
    "with open(\"shadow_crcted_coco.json\", \"w\") as outfile:\n",
    "    outfile.write(json_object)"
   ]
  }
 ],
 "metadata": {
  "kernelspec": {
   "display_name": "Python 3",
   "language": "python",
   "name": "python3"
  },
  "language_info": {
   "codemirror_mode": {
    "name": "ipython",
    "version": 3
   },
   "file_extension": ".py",
   "mimetype": "text/x-python",
   "name": "python",
   "nbconvert_exporter": "python",
   "pygments_lexer": "ipython3",
   "version": "3.6.13"
  }
 },
 "nbformat": 4,
 "nbformat_minor": 5
}
