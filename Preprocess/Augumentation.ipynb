{
 "cells": [
  {
   "cell_type": "code",
   "execution_count": 1,
   "id": "786178b3",
   "metadata": {},
   "outputs": [],
   "source": [
    "! jt -t monokai"
   ]
  },
  {
   "cell_type": "code",
   "execution_count": 2,
   "id": "ab588cab",
   "metadata": {},
   "outputs": [
    {
     "name": "stderr",
     "output_type": "stream",
     "text": [
      "Using TensorFlow backend.\n"
     ]
    }
   ],
   "source": [
    "from keras.preprocessing.image import ImageDataGenerator,array_to_img,img_to_array,load_img\n",
    "import os\n",
    "from os import listdir\n",
    "import numpy as np"
   ]
  },
  {
   "cell_type": "code",
   "execution_count": 3,
   "id": "ece2e7e7",
   "metadata": {},
   "outputs": [],
   "source": [
    "datagen = ImageDataGenerator(\n",
    "        rotation_range=40,\n",
    "        width_shift_range=0.2,\n",
    "        height_shift_range=0.2,\n",
    "        rescale=1./255,\n",
    "        shear_range=0.2,\n",
    "        zoom_range=0.2,\n",
    "        horizontal_flip=True,\n",
    "        fill_mode='reflect')"
   ]
  },
  {
   "cell_type": "code",
   "execution_count": 4,
   "id": "91366b2b",
   "metadata": {},
   "outputs": [],
   "source": [
    "# get the path or directory\n",
    "folder_dir = \"D:\\\\Final Yr Project\\\\YOLO\\\\images\\\\val\\\\ridge\"\n",
    "for images in os.listdir(folder_dir):\n",
    "    if (images.endswith(\".jpg\")):\n",
    "        img = load_img(folder_dir+\"\\\\\"+images)  # this is a PIL image\n",
    "        x = img_to_array(img)  # this is a Numpy array with shape (3, 150, 150)\n",
    "        x = x.reshape((1,) + x.shape)  # this is a Numpy array with shape (1, 3, 150, 150)\n",
    "\n",
    "        # the .flow() command below generates batches of randomly transformed images\n",
    "        # and saves the results to the `preview/` directory\n",
    "        i = 0\n",
    "        for batch in datagen.flow(x, batch_size=1,save_to_dir=\"D:\\\\Final Yr Project\\\\YOLO\\\\images\\\\val\", save_prefix='broad', save_format='jpg'):\n",
    "            i += 1\n",
    "            if i > 30:\n",
    "                break  # otherwise the generator would loop indefinitely"
   ]
  },
  {
   "cell_type": "code",
   "execution_count": 6,
   "id": "c88856b3",
   "metadata": {},
   "outputs": [],
   "source": [
    "from PIL import Image, ImageEnhance"
   ]
  },
  {
   "cell_type": "code",
   "execution_count": 8,
   "id": "4e935d35",
   "metadata": {},
   "outputs": [],
   "source": [
    "folder_dir = \"D:\\\\Final Yr Project\\\\YOLO\\\\images\\\\val\\\\ridge\\\\\"\n",
    "id = 1\n",
    "for images in os.listdir(folder_dir):\n",
    "    if (images.endswith(\".jpg\")):\n",
    "        img = folder_dir+images\n",
    "        im = Image.open(img)\n",
    "        im.save(\"D:\\\\Final Yr Project\\\\YOLO\\\\images\\\\val\\\\ridge{}.jpg\".format(id))\n",
    "        id+=1\n",
    "        clval = 1.75\n",
    "        for h in range(2):\n",
    "            bval = 0.5\n",
    "            for i in range(1):\n",
    "                cval = 4\n",
    "                for j in range(1):\n",
    "                    enhancer = ImageEnhance.Brightness(im)\n",
    "                    im_output = enhancer.enhance(bval)\n",
    "                    enhancer = ImageEnhance.Contrast(im_output)\n",
    "                    im_output = enhancer.enhance(cval)\n",
    "                    enhancer = ImageEnhance.Color(im_output)\n",
    "                    im_output = enhancer.enhance(clval)\n",
    "                    cval -= 1\n",
    "                    im_output.save(\"D:\\\\Final Yr Project\\\\YOLO\\\\images\\\\val\\\\ridge{}.jpg\".format(id))\n",
    "                    id+=1\n",
    "                bval += 0.5\n",
    "            clval -= 0.75"
   ]
  }
 ],
 "metadata": {
  "kernelspec": {
   "display_name": "Python 3",
   "language": "python",
   "name": "python3"
  },
  "language_info": {
   "codemirror_mode": {
    "name": "ipython",
    "version": 3
   },
   "file_extension": ".py",
   "mimetype": "text/x-python",
   "name": "python",
   "nbconvert_exporter": "python",
   "pygments_lexer": "ipython3",
   "version": "3.6.13"
  }
 },
 "nbformat": 4,
 "nbformat_minor": 5
}
